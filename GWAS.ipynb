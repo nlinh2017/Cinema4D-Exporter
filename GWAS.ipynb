{
  "nbformat": 4,
  "nbformat_minor": 0,
  "metadata": {
    "colab": {
      "name": "GWAS.ipynb",
      "private_outputs": true,
      "provenance": [],
      "collapsed_sections": [],
      "authorship_tag": "ABX9TyOfGSeLndYWqZfasCjD2u5Q",
      "include_colab_link": true
    },
    "kernelspec": {
      "name": "ir",
      "display_name": "R"
    },
    "accelerator": "GPU"
  },
  "cells": [
    {
      "cell_type": "markdown",
      "metadata": {
        "id": "view-in-github",
        "colab_type": "text"
      },
      "source": [
        "<a href=\"https://colab.research.google.com/github/nlinh2017/Cinema4D-Exporter/blob/master/GWAS.ipynb\" target=\"_parent\"><img src=\"https://colab.research.google.com/assets/colab-badge.svg\" alt=\"Open In Colab\"/></a>"
      ]
    },
    {
      "cell_type": "code",
      "metadata": {
        "id": "e-0ysOY7qOdY"
      },
      "source": [
        "install.packages(\"googledrive\")\n",
        "library(\"googledrive\")\n",
        "\n",
        "if (file.exists(\"/usr/local/lib/python3.6/dist-packages/google/colab/_ipython.py\")){ \n",
        "  install.packages(\"R.utils\")\n",
        "  library(\"R.utils\")\n",
        "  library(\"httr\")\n",
        "  my_check <- function() {return(TRUE)}\n",
        "  reassignInPackage(\"is_interactive\", pkgName = \"httr\", my_check)\n",
        "  options(rlang_interactive=TRUE)\n",
        "}                                 \n"
      ],
      "execution_count": null,
      "outputs": []
    },
    {
      "cell_type": "code",
      "metadata": {
        "id": "Tfntu-82-7GZ"
      },
      "source": [
        ""
      ],
      "execution_count": null,
      "outputs": []
    },
    {
      "cell_type": "code",
      "metadata": {
        "id": "QJEuktfYAH6z"
      },
      "source": [
        "if (!requireNamespace(\"BiocManager\", quietly = TRUE))\n",
        "    install.packages(\"BiocManager\")\n",
        "\n",
        "BiocManager::install(\"GWASTools\")"
      ],
      "execution_count": null,
      "outputs": []
    },
    {
      "cell_type": "code",
      "metadata": {
        "id": "kbmk9T8QYevj"
      },
      "source": [
        "library(GWASTools)\n",
        "library(SNPRelate)\n",
        "bed.fn <- system.file(\"extdata\", \"plinkhapmap.bed.gz\", package=\"SNPRelate\")\n",
        "fam.fn <- system.file(\"extdata\", \"plinkhapmap.fam.gz\", package=\"SNPRelate\")\n",
        "bim.fn <- system.file(\"extdata\", \"plinkhapmap.bim.gz\", package=\"SNPRelate\")\n",
        "gdsfile <- \"snps.gds\"\n",
        "snpgdsBED2GDS(bed.fn, fam.fn, bim.fn, gdsfile, family=TRUE,\n",
        "              cvt.chr=\"int\", cvt.snpid=\"int\", verbose=FALSE)"
      ],
      "execution_count": null,
      "outputs": []
    },
    {
      "cell_type": "code",
      "metadata": {
        "id": "xJEgdNFXZOGQ"
      },
      "source": [
        " if (!requireNamespace(\"BiocManager\", quietly = TRUE))\n",
        "    install.packages(\"BiocManager\")\n",
        "\n",
        "BiocManager::install(\"SNPRelate\")\n",
        " \n"
      ],
      "execution_count": null,
      "outputs": []
    },
    {
      "cell_type": "code",
      "metadata": {
        "id": "Eqw1UkTHYras"
      },
      "source": [
        " library(SNPRelate)\n",
        "bed.fn <- system.file(\"extdata\", \"plinkhapmap.bed.gz\", package=\"SNPRelate\")"
      ],
      "execution_count": null,
      "outputs": []
    },
    {
      "cell_type": "code",
      "metadata": {
        "id": "DoGXU8xHYweM"
      },
      "source": [
        "bed.fn <- system.file(\"extdata\", \"plinkhapmap.bed.gz\", package=\"SNPRelate\")\n",
        "fam.fn <- system.file(\"extdata\", \"plinkhapmap.fam.gz\", package=\"SNPRelate\")\n",
        "bim.fn <- system.file(\"extdata\", \"plinkhapmap.bim.gz\", package=\"SNPRelate\")\n",
        "gdsfile <- \"snps.gds\""
      ],
      "execution_count": null,
      "outputs": []
    },
    {
      "cell_type": "code",
      "metadata": {
        "id": "dtaWWHaRY1J5"
      },
      "source": [
        "snpgdsBED2GDS(bed.fn, fam.fn, bim.fn, gdsfile, family=TRUE, cvt.chr=\"int\", cvt.snpid=\"int\", verbose=FALSE)"
      ],
      "execution_count": null,
      "outputs": []
    },
    {
      "cell_type": "code",
      "metadata": {
        "id": "V-NHLyviZAUx"
      },
      "source": [
        "gdsfile"
      ],
      "execution_count": null,
      "outputs": []
    },
    {
      "cell_type": "code",
      "metadata": {
        "id": "l7eBMkjlZW3f"
      },
      "source": [
        "library(GWASTools)"
      ],
      "execution_count": null,
      "outputs": []
    },
    {
      "cell_type": "code",
      "metadata": {
        "id": "iFHXIx1dZGOo"
      },
      "source": [
        "snpgdsBED2GDS(bed.fn, fam.fn, bim.fn, gdsfile, family=TRUE, cvt.chr=\"int\", cvt.snpid=\"int\", verbose=FALSE)\n",
        "library(gdsfmt)\n",
        "library(SNPRelate)"
      ],
      "execution_count": null,
      "outputs": []
    },
    {
      "cell_type": "code",
      "metadata": {
        "id": "0eHvaEG_JeWm"
      },
      "source": [
        "snpgdsSummary(snpgdsExampleFileName())"
      ],
      "execution_count": null,
      "outputs": []
    },
    {
      "cell_type": "code",
      "metadata": {
        "id": "MOvCmtXVJhOZ"
      },
      "source": [
        "(genofile <- snpgdsOpen(snpgdsExampleFileName()))"
      ],
      "execution_count": null,
      "outputs": []
    },
    {
      "cell_type": "code",
      "metadata": {
        "id": "sqI4p9PYJsKI"
      },
      "source": [
        "get.attr.gdsn(index.gdsn(genofile, \"snp.chromosome\"))"
      ],
      "execution_count": null,
      "outputs": []
    },
    {
      "cell_type": "code",
      "metadata": {
        "id": "FrfPLGNRJuwk"
      },
      "source": [
        "(g <- read.gdsn(index.gdsn(genofile, \"genotype\"), start=c(1,1), count=c(5,3)))"
      ],
      "execution_count": null,
      "outputs": []
    },
    {
      "cell_type": "code",
      "metadata": {
        "id": "-gFRSWTyJwFI"
      },
      "source": [
        "get.attr.gdsn(index.gdsn(genofile, \"genotype\"))\n",
        "head(read.gdsn(index.gdsn(genofile, \"snp.id\")))\n",
        "head(read.gdsn(index.gdsn(genofile, \"snp.rs.id\")))\n",
        "pop <- read.gdsn(index.gdsn(genofile, path=\"sample.annot/pop.group\"))\n",
        "table(pop)\n",
        "\n",
        "# Close the GDS file\n",
        "snpgdsClose(genofile)"
      ],
      "execution_count": null,
      "outputs": []
    },
    {
      "cell_type": "code",
      "metadata": {
        "id": "-NqTX5NFKAas"
      },
      "source": [
        "# Load data\n",
        "data(hapmap_geno)\n",
        "\n",
        "# Create a gds file\n",
        "snpgdsCreateGeno(\"test.gds\", genmat = hapmap_geno$genotype,\n",
        "    sample.id = hapmap_geno$sample.id, snp.id = hapmap_geno$snp.id,\n",
        "    snp.chromosome = hapmap_geno$snp.chromosome,\n",
        "    snp.position = hapmap_geno$snp.position,\n",
        "    snp.allele = hapmap_geno$snp.allele, snpfirstdim=TRUE)\n",
        "\n",
        "# Open the GDS file\n",
        "(genofile <- snpgdsOpen(\"test.gds\"))\n",
        "\n",
        "# Close the GDS file\n",
        "snpgdsClose(genofile)"
      ],
      "execution_count": null,
      "outputs": []
    },
    {
      "cell_type": "code",
      "metadata": {
        "id": "lbVw6qczKHNC"
      },
      "source": [
        "# The PLINK BED file, using the example in the SNPRelate package\n",
        "bed.fn <- system.file(\"extdata\", \"plinkhapmap.bed.gz\", package=\"SNPRelate\")\n",
        "fam.fn <- system.file(\"extdata\", \"plinkhapmap.fam.gz\", package=\"SNPRelate\")\n",
        "bim.fn <- system.file(\"extdata\", \"plinkhapmap.bim.gz\", package=\"SNPRelate\")\n",
        "# Convert\n",
        "snpgdsBED2GDS(bed.fn, fam.fn, bim.fn, \"test.gds\")\n",
        "\n",
        "# Summary\n",
        "snpgdsSummary(\"test.gds\")\n",
        "# The VCF file, using the example in the SNPRelate package\n",
        "vcf.fn <- system.file(\"extdata\", \"sequence.vcf\", package=\"SNPRelate\")\n",
        "#  vcf.fn <- \"/content/test.gds/your_vcf_file.vcf\""
      ],
      "execution_count": null,
      "outputs": []
    },
    {
      "cell_type": "code",
      "metadata": {
        "id": "CxQeyy2CKgJi"
      },
      "source": [
        "# Reformat\n",
        "snpgdsVCF2GDS(vcf.fn, \"test.gds\", method=\"biallelic.only\")\n",
        "\n",
        "# Summary\n",
        "snpgdsSummary(\"test.gds\")\n",
        "# Open the GDS file\n",
        "genofile <- snpgdsOpen(snpgdsExampleFileName())\n",
        "\n",
        "## -----------------------------------------------------------------------------\n",
        "# Get population information\n",
        "#   or pop_code <- scan(\"pop.txt\", what=character())\n",
        "#   if it is stored in a text file \"pop.txt\"\n",
        "pop_code <- read.gdsn(index.gdsn(genofile, path=\"sample.annot/pop.group\"))\n",
        "\n",
        "table(pop_code)\n",
        "\n",
        "# Display the first six values\n",
        "head(pop_code)"
      ],
      "execution_count": null,
      "outputs": []
    },
    {
      "cell_type": "code",
      "metadata": {
        "id": "wZIGKONbKlyw"
      },
      "source": [
        "set.seed(1000)\n",
        "\n",
        "# Try different LD thresholds for sensitivity analysis\n",
        "snpset <- snpgdsLDpruning(genofile, ld.threshold=0.2)\n",
        "str(snpset)\n",
        "names(snpset)\n",
        "\n",
        "# Get all selected snp id\n",
        "snpset.id <- unlist(unname(snpset))\n",
        "head(snpset.id)\n"
      ],
      "execution_count": null,
      "outputs": []
    },
    {
      "cell_type": "code",
      "metadata": {
        "id": "st4q6QJLKrkl"
      },
      "source": [
        "# Run PCA\n",
        "pca <- snpgdsPCA(genofile, snp.id=snpset.id, num.thread=2)\n",
        "\n",
        "## -----------------------------------------------------------------------------\n",
        "# variance proportion (%)\n",
        "pc.percent <- pca$varprop*100\n",
        "head(round(pc.percent, 2))\n",
        "\n",
        "## ----fig.width=5, fig.height=5, fig.align='center'----------------------------\n",
        "# make a data.frame\n",
        "tab <- data.frame(sample.id = pca$sample.id,\n",
        "    EV1 = pca$eigenvect[,1],    # the first eigenvector\n",
        "    EV2 = pca$eigenvect[,2],    # the second eigenvector\n",
        "    stringsAsFactors = FALSE)\n",
        "head(tab)\n",
        "\n",
        "# Draw\n",
        "plot(tab$EV2, tab$EV1, xlab=\"eigenvector 2\", ylab=\"eigenvector 1\")\n",
        "\n",
        "## -----------------------------------------------------------------------------\n",
        "# Get sample id\n",
        "sample.id <- read.gdsn(index.gdsn(genofile, \"sample.id\"))\n",
        "\n",
        "# Get population information\n",
        "#   or pop_code <- scan(\"pop.txt\", what=character())\n",
        "#   if it is stored in a text file \"pop.txt\"\n",
        "pop_code <- read.gdsn(index.gdsn(genofile, \"sample.annot/pop.group\"))\n",
        "\n",
        "# assume the order of sample IDs is as the same as population codes\n",
        "head(cbind(sample.id, pop_code))\n",
        "\n",
        "## ----fig.width=5, fig.height=5, fig.align='center'----------------------------\n",
        "# Make a data.frame\n",
        "tab <- data.frame(sample.id = pca$sample.id,\n",
        "    pop = factor(pop_code)[match(pca$sample.id, sample.id)],\n",
        "    EV1 = pca$eigenvect[,1],    # the first eigenvector\n",
        "    EV2 = pca$eigenvect[,2],    # the second eigenvector\n",
        "    stringsAsFactors = FALSE)\n",
        "head(tab)\n",
        "\n",
        "# Draw\n",
        "plot(tab$EV2, tab$EV1, col=as.integer(tab$pop), xlab=\"eigenvector 2\", ylab=\"eigenvector 1\")\n",
        "legend(\"bottomright\", legend=levels(tab$pop), pch=\"o\", col=1:nlevels(tab$pop))\n",
        "\n",
        "## ----fig.width=5, fig.height=5, fig.align='center'----------------------------\n",
        "lbls <- paste(\"PC\", 1:4, \"\\n\", format(pc.percent[1:4], digits=2), \"%\", sep=\"\")\n",
        "pairs(pca$eigenvect[,1:4], col=tab$pop, labels=lbls)\n",
        "\n",
        "## ----fig.width=8, fig.height=5, fig.align='center'----------------------------\n",
        "library(MASS)\n",
        "\n",
        "datpop <- factor(pop_code)[match(pca$sample.id, sample.id)]\n",
        "parcoord(pca$eigenvect[,1:16], col=datpop)\n",
        "\n",
        "## ----fig.width=8, fig.height=4, fig.align='center'----------------------------\n",
        "# Get chromosome index\n",
        "chr <- read.gdsn(index.gdsn(genofile, \"snp.chromosome\"))\n",
        "CORR <- snpgdsPCACorr(pca, genofile, eig.which=1:4)\n",
        "\n",
        "savepar <- par(mfrow=c(2,1), mai=c(0.45, 0.55, 0.1, 0.25))\n",
        "for (i in 1:2)\n",
        "{\n",
        "    plot(abs(CORR$snpcorr[i,]), ylim=c(0,1), xlab=\"\", ylab=paste(\"PC\", i),\n",
        "        col=chr, pch=\"+\")\n",
        "}\n",
        "par(savepar)"
      ],
      "execution_count": null,
      "outputs": []
    },
    {
      "cell_type": "code",
      "metadata": {
        "id": "XjuEElWaKvex"
      },
      "source": [
        "# Get sample id\n",
        "sample.id <- read.gdsn(index.gdsn(genofile, \"sample.id\"))\n",
        "\n",
        "# Get population information\n",
        "#   or pop_code <- scan(\"pop.txt\", what=character())\n",
        "#   if it is stored in a text file \"pop.txt\"\n",
        "pop_code <- read.gdsn(index.gdsn(genofile, \"sample.annot/pop.group\"))\n",
        "\n",
        "# Two populations: HCB and JPT\n",
        "flag <- pop_code %in% c(\"HCB\", \"JPT\")\n",
        "samp.sel <- sample.id[flag]\n",
        "pop.sel <- pop_code[flag]\n",
        "v <- snpgdsFst(genofile, sample.id=samp.sel, population=as.factor(pop.sel),\n",
        "    method=\"W&C84\")\n",
        "v$Fst        # Weir and Cockerham weighted Fst estimate\n",
        "v$MeanFst    # Weir and Cockerham mean Fst estimate\n",
        "summary(v$FstSNP)\n",
        "\n",
        "# Multiple populations: CEU HCB JPT YRI\n",
        "#   we should remove offsprings\n",
        "father <- read.gdsn(index.gdsn(genofile, \"sample.annot/father.id\"))\n",
        "mother <- read.gdsn(index.gdsn(genofile, \"sample.annot/mother.id\"))\n",
        "flag <- (father==\"\") & (mother==\"\")\n",
        "samp.sel <- sample.id[flag]\n",
        "pop.sel <- pop_code[flag]\n",
        "v <- snpgdsFst(genofile, sample.id=samp.sel, population=as.factor(pop.sel),\n",
        "    method=\"W&C84\")\n",
        "v$Fst        # Weir and Cockerham weighted Fst estimate\n",
        "v$MeanFst    # Weir and Cockerham mean Fst estimate\n",
        "summary(v$FstSNP)\n"
      ],
      "execution_count": null,
      "outputs": []
    },
    {
      "cell_type": "code",
      "metadata": {
        "id": "CZN1hQy9KzJH"
      },
      "source": [
        "# YRI samples\n",
        "sample.id <- read.gdsn(index.gdsn(genofile, \"sample.id\"))\n",
        "YRI.id <- sample.id[pop_code == \"YRI\"]\n",
        "\n",
        "## ----fig.width=5, fig.height=5, fig.align='center'----------------------------\n",
        "# Estimate IBD coefficients\n",
        "ibd <- snpgdsIBDMoM(genofile, sample.id=YRI.id, snp.id=snpset.id,\n",
        "    maf=0.05, missing.rate=0.05, num.thread=2)\n",
        "\n",
        "# Make a data.frame\n",
        "ibd.coeff <- snpgdsIBDSelection(ibd)\n",
        "head(ibd.coeff)\n",
        "\n",
        "plot(ibd.coeff$k0, ibd.coeff$k1, xlim=c(0,1), ylim=c(0,1),\n",
        "    xlab=\"k0\", ylab=\"k1\", main=\"YRI samples (MoM)\")\n",
        "lines(c(0,1), c(1,0), col=\"red\", lty=2)\n",
        "\n",
        "## ----fig.width=5, fig.height=5, fig.align='center'----------------------------\n",
        "# Estimate IBD coefficients\n",
        "set.seed(100)\n",
        "snp.id <- sample(snpset.id, 1500)  # random 1500 SNPs\n",
        "ibd <- snpgdsIBDMLE(genofile, sample.id=YRI.id, snp.id=snp.id,\n",
        "    maf=0.05, missing.rate=0.05, num.thread=2)\n",
        "\n",
        "# Make a data.frame\n",
        "ibd.coeff <- snpgdsIBDSelection(ibd)\n",
        "\n",
        "plot(ibd.coeff$k0, ibd.coeff$k1, xlim=c(0,1), ylim=c(0,1),\n",
        "    xlab=\"k0\", ylab=\"k1\", main=\"YRI samples (MLE)\")\n",
        "lines(c(0,1), c(1,0), col=\"red\", lty=2)\n",
        "\n",
        "## ----fig.width=5, fig.height=5, fig.align='center'----------------------------\n",
        "# Incorporate with pedigree information\n",
        "family.id <- read.gdsn(index.gdsn(genofile, \"sample.annot/family.id\"))\n",
        "family.id <- family.id[match(YRI.id, sample.id)]\n",
        "table(family.id)\n",
        "\n",
        "ibd.robust <- snpgdsIBDKING(genofile, sample.id=YRI.id,\n",
        "    family.id=family.id, num.thread=2)\n",
        "names(ibd.robust)\n",
        "\n",
        "# Pairs of individuals\n",
        "dat <- snpgdsIBDSelection(ibd.robust)\n",
        "head(dat)\n",
        "\n",
        "plot(dat$IBS0, dat$kinship, xlab=\"Proportion of Zero IBS\",\n",
        "    ylab=\"Estimated Kinship Coefficient (KING-robust)\")\n"
      ],
      "execution_count": null,
      "outputs": []
    },
    {
      "cell_type": "code",
      "metadata": {
        "id": "D_QV3QArK6Ic"
      },
      "source": [
        "ibs <- snpgdsIBS(genofile, num.thread=2)\n",
        "\n",
        "## ----fig.width=5, fig.height=5, fig.align='center'----------------------------\n",
        "# individulas in the same population are clustered together\n",
        "pop.idx <- order(pop_code)\n",
        "\n",
        "image(ibs$ibs[pop.idx, pop.idx], col=terrain.colors(16))\n",
        "\n",
        "## ----fig.width=5, fig.height=5, fig.align='center'----------------------------\n",
        "loc <- cmdscale(1 - ibs$ibs, k = 2)\n",
        "x <- loc[, 1]; y <- loc[, 2]\n",
        "race <- as.factor(pop_code)\n",
        "\n",
        "plot(x, y, col=race, xlab = \"\", ylab = \"\",\n",
        "    main = \"Multidimensional Scaling Analysis (IBS)\")\n",
        "legend(\"topleft\", legend=levels(race), pch=\"o\", text.col=1:nlevels(race))\n",
        "\n",
        "## ----fig.width=5, fig.height=5, fig.align='center'----------------------------\n",
        "set.seed(100)\n",
        "ibs.hc <- snpgdsHCluster(snpgdsIBS(genofile, num.thread=2))\n",
        "\n",
        "# Determine groups of individuals automatically\n",
        "rv <- snpgdsCutTree(ibs.hc)\n",
        "plot(rv$dendrogram, leaflab=\"none\", main=\"HapMap Phase II\")\n",
        "table(rv$samp.group)\n",
        "\n",
        "## ----fig.width=5, fig.height=5, fig.align='center'----------------------------\n",
        "# Determine groups of individuals by population information\n",
        "rv2 <- snpgdsCutTree(ibs.hc, samp.group=as.factor(pop_code))\n",
        "\n",
        "plot(rv2$dendrogram, leaflab=\"none\", main=\"HapMap Phase II\")\n",
        "legend(\"topright\", legend=levels(race), col=1:nlevels(race), pch=19, ncol=4)\n",
        "\n",
        "# Close the GDS file\n",
        "snpgdsClose(genofile)"
      ],
      "execution_count": null,
      "outputs": []
    },
    {
      "cell_type": "code",
      "metadata": {
        "id": "29rCRBTsLDRi"
      },
      "source": [
        "## -----------------------------------------------------------------------------\n",
        "sessionInfo()\n",
        "\n",
        "## ----echo=FALSE---------------------------------------------------------------\n",
        "unlink(\"test.gds\", force=TRUE)\n"
      ],
      "execution_count": null,
      "outputs": []
    }
  ]
}