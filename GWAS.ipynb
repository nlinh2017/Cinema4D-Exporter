{
  "nbformat": 4,
  "nbformat_minor": 0,
  "metadata": {
    "colab": {
      "name": "GWAS.ipynb",
      "private_outputs": true,
      "provenance": [],
      "authorship_tag": "ABX9TyOPdUWsu9t0D8VgHqJNXFBC",
      "include_colab_link": true
    },
    "kernelspec": {
      "name": "ir",
      "display_name": "R"
    },
    "accelerator": "GPU"
  },
  "cells": [
    {
      "cell_type": "markdown",
      "metadata": {
        "id": "view-in-github",
        "colab_type": "text"
      },
      "source": [
        "<a href=\"https://colab.research.google.com/github/nlinh2017/Cinema4D-Exporter/blob/master/GWAS.ipynb\" target=\"_parent\"><img src=\"https://colab.research.google.com/assets/colab-badge.svg\" alt=\"Open In Colab\"/></a>"
      ]
    },
    {
      "cell_type": "code",
      "metadata": {
        "id": "e-0ysOY7qOdY"
      },
      "source": [
        "install.packages(\"googledrive\")\n",
        "library(\"googledrive\")\n",
        "\n",
        "if (file.exists(\"/usr/local/lib/python3.6/dist-packages/google/colab/_ipython.py\")){ \n",
        "  install.packages(\"R.utils\")\n",
        "  library(\"R.utils\")\n",
        "  library(\"httr\")\n",
        "  my_check <- function() {return(TRUE)}\n",
        "  reassignInPackage(\"is_interactive\", pkgName = \"httr\", my_check)\n",
        "  options(rlang_interactive=TRUE)\n",
        "}                                 \n"
      ],
      "execution_count": null,
      "outputs": []
    },
    {
      "cell_type": "code",
      "metadata": {
        "id": "Tfntu-82-7GZ"
      },
      "source": [
        ""
      ],
      "execution_count": null,
      "outputs": []
    },
    {
      "cell_type": "code",
      "metadata": {
        "id": "QJEuktfYAH6z"
      },
      "source": [
        "if (!requireNamespace(\"BiocManager\", quietly = TRUE))\n",
        "    install.packages(\"BiocManager\")\n",
        "\n",
        "BiocManager::install(\"GWASTools\")"
      ],
      "execution_count": null,
      "outputs": []
    },
    {
      "cell_type": "code",
      "metadata": {
        "id": "kbmk9T8QYevj"
      },
      "source": [
        "library(GWASTools)\n",
        "library(SNPRelate)\n",
        "bed.fn <- system.file(\"extdata\", \"plinkhapmap.bed.gz\", package=\"SNPRelate\")\n",
        "fam.fn <- system.file(\"extdata\", \"plinkhapmap.fam.gz\", package=\"SNPRelate\")\n",
        "bim.fn <- system.file(\"extdata\", \"plinkhapmap.bim.gz\", package=\"SNPRelate\")\n",
        "gdsfile <- \"snps.gds\"\n",
        "snpgdsBED2GDS(bed.fn, fam.fn, bim.fn, gdsfile, family=TRUE,\n",
        "              cvt.chr=\"int\", cvt.snpid=\"int\", verbose=FALSE)"
      ],
      "execution_count": null,
      "outputs": []
    },
    {
      "cell_type": "code",
      "metadata": {
        "id": "xJEgdNFXZOGQ"
      },
      "source": [
        " library(SNPRelate)"
      ],
      "execution_count": null,
      "outputs": []
    },
    {
      "cell_type": "code",
      "metadata": {
        "id": "Eqw1UkTHYras"
      },
      "source": [
        "bed.fn <- system.file(\"extdata\", \"plinkhapmap.bed.gz\", package=\"SNPRelate\")"
      ],
      "execution_count": null,
      "outputs": []
    },
    {
      "cell_type": "code",
      "metadata": {
        "id": "DoGXU8xHYweM"
      },
      "source": [
        "bed.fn <- system.file(\"extdata\", \"plinkhapmap.bed.gz\", package=\"SNPRelate\")\n",
        "fam.fn <- system.file(\"extdata\", \"plinkhapmap.fam.gz\", package=\"SNPRelate\")\n",
        "bim.fn <- system.file(\"extdata\", \"plinkhapmap.bim.gz\", package=\"SNPRelate\")\n",
        "gdsfile <- \"snps.gds\""
      ],
      "execution_count": null,
      "outputs": []
    },
    {
      "cell_type": "code",
      "metadata": {
        "id": "dtaWWHaRY1J5"
      },
      "source": [
        "snpgdsBED2GDS(bed.fn, fam.fn, bim.fn, gdsfile, family=TRUE, cvt.chr=\"int\", cvt.snpid=\"int\", verbose=FALSE)"
      ],
      "execution_count": null,
      "outputs": []
    },
    {
      "cell_type": "code",
      "metadata": {
        "id": "V-NHLyviZAUx"
      },
      "source": [
        "gdsfile"
      ],
      "execution_count": null,
      "outputs": []
    },
    {
      "cell_type": "code",
      "metadata": {
        "id": "l7eBMkjlZW3f"
      },
      "source": [
        "library(GWASTools)\n"
      ],
      "execution_count": null,
      "outputs": []
    },
    {
      "cell_type": "code",
      "metadata": {
        "id": "iFHXIx1dZGOo"
      },
      "source": [
        "snpgdsBED2GDS(bed.fn, fam.fn, bim.fn, gdsfile, family=TRUE, cvt.chr=\"int\", cvt.snpid=\"int\", verbose=FALSE)"
      ],
      "execution_count": null,
      "outputs": []
    }
  ]
}