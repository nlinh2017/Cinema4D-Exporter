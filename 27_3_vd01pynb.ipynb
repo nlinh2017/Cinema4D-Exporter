{
  "nbformat": 4,
  "nbformat_minor": 0,
  "metadata": {
    "colab": {
      "name": "27_3 vd01pynb",
      "provenance": [],
      "private_outputs": true,
      "toc_visible": true,
      "mount_file_id": "1Y8jzG0h1prLC-vk3lNOua4fDuJ_ZvRmV",
      "authorship_tag": "ABX9TyPaA+QJSyOwM/kxSLN3BSic",
      "include_colab_link": true
    },
    "kernelspec": {
      "name": "python3",
      "display_name": "Python 3"
    },
    "accelerator": "GPU"
  },
  "cells": [
    {
      "cell_type": "markdown",
      "metadata": {
        "id": "view-in-github",
        "colab_type": "text"
      },
      "source": [
        "<a href=\"https://colab.research.google.com/github/nlinh2017/Cinema4D-Exporter/blob/master/27_3_vd01pynb.ipynb\" target=\"_parent\"><img src=\"https://colab.research.google.com/assets/colab-badge.svg\" alt=\"Open In Colab\"/></a>"
      ]
    },
    {
      "cell_type": "markdown",
      "metadata": {
        "id": "Iad6z3Y4uSpx",
        "colab_type": "text"
      },
      "source": [
        "# vIDU01"
      ]
    }
  ]
}